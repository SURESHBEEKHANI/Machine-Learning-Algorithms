{
  "nbformat": 4,
  "nbformat_minor": 0,
  "metadata": {
    "colab": {
      "private_outputs": true,
      "provenance": [],
      "authorship_tag": "ABX9TyPIFZGbW9q9oEbPitqNUIIZ",
      "include_colab_link": true
    },
    "kernelspec": {
      "name": "python3",
      "display_name": "Python 3"
    },
    "language_info": {
      "name": "python"
    }
  },
  "cells": [
    {
      "cell_type": "markdown",
      "metadata": {
        "id": "view-in-github",
        "colab_type": "text"
      },
      "source": [
        "<a href=\"https://colab.research.google.com/github/SURESHBEEKHANI/Machine-Learning-Regression-Algorithms-/blob/main/Machine_Learning_Regression_Algorithms_.ipynb\" target=\"_parent\"><img src=\"https://colab.research.google.com/assets/colab-badge.svg\" alt=\"Open In Colab\"/></a>"
      ]
    },
    {
      "cell_type": "code",
      "execution_count": null,
      "metadata": {
        "id": "kqUqwG1912U7"
      },
      "outputs": [],
      "source": [
        "import numpy as np  # Importing NumPy for data manipulation operations\n",
        "import pandas as pd  # Importing Pandas to handle data in table-like structures\n",
        "\n",
        "# Setting up Matplotlib for plotting (data visualization)\n",
        "%matplotlib\n",
        "import matplotlib.pyplot as plt  # Importing Matplotlib's pyplot module for creating visual plots\n",
        "import seaborn as sns  # Importing Seaborn for advanced data visualization techniques\n",
        "\n",
        "import sklearn  # Importing scikit-learn for machine learning tasks\n",
        "\n",
        "import warnings  # Importing warnings library to handle warning messages\n",
        "warnings.filterwarnings('ignore')  # Ignoring all warning messages\n",
        "\n",
        "# Setting default plot size for visualizations\n",
        "plt.rcParams['figure.figsize'] = [10, 5]\n",
        "\n",
        "# Importing warnings library again (not necessary, already imported)\n",
        "warnings.simplefilter(action=\"ignore\", category=FutureWarning)  # Ignoring future warnings\n",
        "\n",
        "# The following script is written to be easily understood by someone without a technical background from Pakistan.\n",
        "# Each line includes comments explaining its purpose in simple terms.\n"
      ]
    },
    {
      "cell_type": "code",
      "source": [
        "# This line of code imports the read_csv function from the pandas library.\n",
        "# read_csv is a function that allows us to read data from a CSV (comma-separated values) file.\n",
        "# We're using it to load a dataset stored in a file named \"USA_Housing.csv\".\n",
        "# The data from the CSV file will be stored in a variable called 'data'.\n",
        "import pandas as pd\n",
        "data = pd.read_csv(\"/content/USA_Housing.csv\")\n"
      ],
      "metadata": {
        "id": "lVW7wCIn8-CW"
      },
      "execution_count": null,
      "outputs": []
    },
    {
      "cell_type": "code",
      "source": [
        "# This line of code uses the shape function to display the dimensions of the dataset.\n",
        "# The shape function returns a tuple where the first element represents the number of rows and the second element represents the number of columns.\n",
        "# For example, if the shape of the dataset is (1000, 6), it means there are 1000 rows and 6 columns.\n",
        "data.shape\n"
      ],
      "metadata": {
        "id": "jesSEzzL-GBL"
      },
      "execution_count": null,
      "outputs": []
    },
    {
      "cell_type": "code",
      "source": [
        "# This line of code uses the info() function to get detailed information about the dataset.\n",
        "# The info() function provides a summary of the dataset, including the data types of each column and the number of non-null values.\n",
        "# It also shows if there are any missing values in the dataset.\n",
        "data.info()\n"
      ],
      "metadata": {
        "id": "SRQju0fI9gDP"
      },
      "execution_count": null,
      "outputs": []
    },
    {
      "cell_type": "code",
      "source": [
        "# This line of code uses the head() function to display the first few rows of the dataset.\n",
        "# The head() function is very useful when you want to quickly look at a small part of your data.\n",
        "# By default, head() shows the first 5 rows, but you can specify a different number if you want.\n",
        "# For example, data.head(10) would show the first 10 rows instead of the first 5.\n",
        "data.head()\n"
      ],
      "metadata": {
        "id": "X3z6iQ779OqB"
      },
      "execution_count": null,
      "outputs": []
    }
  ]
}